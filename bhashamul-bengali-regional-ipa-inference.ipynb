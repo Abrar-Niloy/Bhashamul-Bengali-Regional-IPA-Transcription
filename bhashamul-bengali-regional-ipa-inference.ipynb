{
 "cells": [
  {
   "cell_type": "code",
   "execution_count": 1,
   "id": "80201720",
   "metadata": {
    "_cell_guid": "b1076dfc-b9ad-4769-8c92-a6c4dae69d19",
    "_uuid": "8f2839f25d086af736a60e9eeb907d3b93b6e0e5",
    "execution": {
     "iopub.execute_input": "2024-02-28T18:41:36.537654Z",
     "iopub.status.busy": "2024-02-28T18:41:36.536974Z",
     "iopub.status.idle": "2024-02-28T18:41:58.318471Z",
     "shell.execute_reply": "2024-02-28T18:41:58.317493Z"
    },
    "papermill": {
     "duration": 21.789325,
     "end_time": "2024-02-28T18:41:58.320889",
     "exception": false,
     "start_time": "2024-02-28T18:41:36.531564",
     "status": "completed"
    },
    "tags": []
   },
   "outputs": [
    {
     "name": "stderr",
     "output_type": "stream",
     "text": [
      "2024-02-28 18:41:45.102646: E external/local_xla/xla/stream_executor/cuda/cuda_dnn.cc:9261] Unable to register cuDNN factory: Attempting to register factory for plugin cuDNN when one has already been registered\n",
      "2024-02-28 18:41:45.102751: E external/local_xla/xla/stream_executor/cuda/cuda_fft.cc:607] Unable to register cuFFT factory: Attempting to register factory for plugin cuFFT when one has already been registered\n",
      "2024-02-28 18:41:45.253960: E external/local_xla/xla/stream_executor/cuda/cuda_blas.cc:1515] Unable to register cuBLAS factory: Attempting to register factory for plugin cuBLAS when one has already been registered\n"
     ]
    }
   ],
   "source": [
    "import pandas as pd\n",
    "from transformers import pipeline"
   ]
  },
  {
   "cell_type": "code",
   "execution_count": 2,
   "id": "4b42e380",
   "metadata": {
    "execution": {
     "iopub.execute_input": "2024-02-28T18:41:58.330043Z",
     "iopub.status.busy": "2024-02-28T18:41:58.328622Z",
     "iopub.status.idle": "2024-02-28T18:41:58.394498Z",
     "shell.execute_reply": "2024-02-28T18:41:58.393673Z"
    },
    "papermill": {
     "duration": 0.07243,
     "end_time": "2024-02-28T18:41:58.396895",
     "exception": false,
     "start_time": "2024-02-28T18:41:58.324465",
     "status": "completed"
    },
    "tags": []
   },
   "outputs": [],
   "source": [
    "test_df = pd.read_csv(\"/kaggle/input/regipa/test_regipa.csv\", index_col=\"Index\")\n",
    "test_df = test_df.drop(columns=['District'])"
   ]
  },
  {
   "cell_type": "code",
   "execution_count": 3,
   "id": "fac2f7fb",
   "metadata": {
    "execution": {
     "iopub.execute_input": "2024-02-28T18:41:58.405018Z",
     "iopub.status.busy": "2024-02-28T18:41:58.404714Z",
     "iopub.status.idle": "2024-02-28T18:42:07.339937Z",
     "shell.execute_reply": "2024-02-28T18:42:07.339121Z"
    },
    "papermill": {
     "duration": 8.941819,
     "end_time": "2024-02-28T18:42:07.342375",
     "exception": false,
     "start_time": "2024-02-28T18:41:58.400556",
     "status": "completed"
    },
    "tags": []
   },
   "outputs": [
    {
     "name": "stderr",
     "output_type": "stream",
     "text": [
      "Special tokens have been added in the vocabulary, make sure the associated word embeddings are fine-tuned or trained.\n"
     ]
    }
   ],
   "source": [
    "pipe = pipeline(\"text2text-generation\", model=\"/kaggle/input/bhashamul-ipa-final-training/bytet5-banglaregional-text-to-ipa-Final/checkpoint-17000/\", device=0)"
   ]
  },
  {
   "cell_type": "code",
   "execution_count": 4,
   "id": "b0fa17c2",
   "metadata": {
    "execution": {
     "iopub.execute_input": "2024-02-28T18:42:07.351132Z",
     "iopub.status.busy": "2024-02-28T18:42:07.350525Z",
     "iopub.status.idle": "2024-02-28T18:42:07.367790Z",
     "shell.execute_reply": "2024-02-28T18:42:07.367082Z"
    },
    "papermill": {
     "duration": 0.023338,
     "end_time": "2024-02-28T18:42:07.369582",
     "exception": false,
     "start_time": "2024-02-28T18:42:07.346244",
     "status": "completed"
    },
    "tags": []
   },
   "outputs": [],
   "source": [
    "# preprocess-1: sort by length\n",
    "index = test_df[\"Contents\"].str.len().sort_values(ascending=False).index\n",
    "test_df = test_df.reindex(index)"
   ]
  },
  {
   "cell_type": "code",
   "execution_count": 5,
   "id": "6b42a95e",
   "metadata": {
    "execution": {
     "iopub.execute_input": "2024-02-28T18:42:07.377845Z",
     "iopub.status.busy": "2024-02-28T18:42:07.377561Z",
     "iopub.status.idle": "2024-02-28T18:42:07.395051Z",
     "shell.execute_reply": "2024-02-28T18:42:07.394338Z"
    },
    "papermill": {
     "duration": 0.023956,
     "end_time": "2024-02-28T18:42:07.397076",
     "exception": false,
     "start_time": "2024-02-28T18:42:07.373120",
     "status": "completed"
    },
    "tags": []
   },
   "outputs": [],
   "source": [
    "# preprocess-2: removing english alphabets\n",
    "alpha_pat = \"[a-zA-Z]\"\n",
    "test_df[\"Contents\"] = test_df[\"Contents\"].str.replace(alpha_pat, \"\", regex=True)"
   ]
  },
  {
   "cell_type": "code",
   "execution_count": 6,
   "id": "90de952a",
   "metadata": {
    "execution": {
     "iopub.execute_input": "2024-02-28T18:42:07.405913Z",
     "iopub.status.busy": "2024-02-28T18:42:07.405402Z",
     "iopub.status.idle": "2024-02-28T18:42:07.418112Z",
     "shell.execute_reply": "2024-02-28T18:42:07.416766Z"
    },
    "papermill": {
     "duration": 0.020059,
     "end_time": "2024-02-28T18:42:07.420873",
     "exception": false,
     "start_time": "2024-02-28T18:42:07.400814",
     "status": "completed"
    },
    "tags": []
   },
   "outputs": [],
   "source": [
    "# preprocess-3: adding period at the end of those texts not having period or '।'\n",
    "indices_to_add_period = test_df[~test_df['Contents'].str.endswith('।')].index\n",
    "test_df.loc[indices_to_add_period, 'Contents'] += '।'"
   ]
  },
  {
   "cell_type": "code",
   "execution_count": 7,
   "id": "0ad4ab38",
   "metadata": {
    "execution": {
     "iopub.execute_input": "2024-02-28T18:42:07.429562Z",
     "iopub.status.busy": "2024-02-28T18:42:07.429271Z",
     "iopub.status.idle": "2024-02-28T18:47:27.290463Z",
     "shell.execute_reply": "2024-02-28T18:47:27.289490Z"
    },
    "papermill": {
     "duration": 319.871605,
     "end_time": "2024-02-28T18:47:27.296312",
     "exception": false,
     "start_time": "2024-02-28T18:42:07.424707",
     "status": "completed"
    },
    "tags": []
   },
   "outputs": [
    {
     "name": "stdout",
     "output_type": "stream",
     "text": [
      "CPU times: user 5min 19s, sys: 223 ms, total: 5min 19s\n",
      "Wall time: 5min 19s\n"
     ]
    }
   ],
   "source": [
    "%%time\n",
    "texts = test_df[\"Contents\"].tolist()\n",
    "ipas = pipe(texts, max_length=512, batch_size=64)\n",
    "ipas = [ipa[\"generated_text\"] for ipa in ipas]"
   ]
  },
  {
   "cell_type": "code",
   "execution_count": 8,
   "id": "59256675",
   "metadata": {
    "execution": {
     "iopub.execute_input": "2024-02-28T18:47:27.305372Z",
     "iopub.status.busy": "2024-02-28T18:47:27.305038Z",
     "iopub.status.idle": "2024-02-28T18:47:27.314222Z",
     "shell.execute_reply": "2024-02-28T18:47:27.313372Z"
    },
    "papermill": {
     "duration": 0.016155,
     "end_time": "2024-02-28T18:47:27.316381",
     "exception": false,
     "start_time": "2024-02-28T18:47:27.300226",
     "status": "completed"
    },
    "tags": []
   },
   "outputs": [],
   "source": [
    "# postprocess-1\n",
    "test_df[\"ipa\"] = ipas\n",
    "test_df = test_df.sort_index()"
   ]
  },
  {
   "cell_type": "code",
   "execution_count": 9,
   "id": "37b0d34c",
   "metadata": {
    "execution": {
     "iopub.execute_input": "2024-02-28T18:47:27.325142Z",
     "iopub.status.busy": "2024-02-28T18:47:27.324851Z",
     "iopub.status.idle": "2024-02-28T18:47:27.333248Z",
     "shell.execute_reply": "2024-02-28T18:47:27.332207Z"
    },
    "papermill": {
     "duration": 0.015301,
     "end_time": "2024-02-28T18:47:27.335446",
     "exception": false,
     "start_time": "2024-02-28T18:47:27.320145",
     "status": "completed"
    },
    "tags": []
   },
   "outputs": [],
   "source": [
    "# postprocess-2: removing period from the end of those ipas in which texts period were added in preprocess-3\n",
    "test_df.loc[indices_to_add_period, 'ipa'] = test_df.loc[indices_to_add_period, 'ipa'].str.rstrip('।')"
   ]
  },
  {
   "cell_type": "code",
   "execution_count": 10,
   "id": "e8c9ba5b",
   "metadata": {
    "execution": {
     "iopub.execute_input": "2024-02-28T18:47:27.345159Z",
     "iopub.status.busy": "2024-02-28T18:47:27.344868Z",
     "iopub.status.idle": "2024-02-28T18:47:27.360995Z",
     "shell.execute_reply": "2024-02-28T18:47:27.360123Z"
    },
    "papermill": {
     "duration": 0.023197,
     "end_time": "2024-02-28T18:47:27.362961",
     "exception": false,
     "start_time": "2024-02-28T18:47:27.339764",
     "status": "completed"
    },
    "tags": []
   },
   "outputs": [
    {
     "data": {
      "text/html": [
       "<div>\n",
       "<style scoped>\n",
       "    .dataframe tbody tr th:only-of-type {\n",
       "        vertical-align: middle;\n",
       "    }\n",
       "\n",
       "    .dataframe tbody tr th {\n",
       "        vertical-align: top;\n",
       "    }\n",
       "\n",
       "    .dataframe thead th {\n",
       "        text-align: right;\n",
       "    }\n",
       "</style>\n",
       "<table border=\"1\" class=\"dataframe\">\n",
       "  <thead>\n",
       "    <tr style=\"text-align: right;\">\n",
       "      <th></th>\n",
       "      <th>string</th>\n",
       "    </tr>\n",
       "    <tr>\n",
       "      <th>id</th>\n",
       "      <th></th>\n",
       "    </tr>\n",
       "  </thead>\n",
       "  <tbody>\n",
       "    <tr>\n",
       "      <th>0</th>\n",
       "      <td>elɐ ʃɔbɐe̯ ʃɔbɐɾ  hɐt̪ot̪ &lt;&gt; ɔʃɔhɐe̯ mɐnuʃ ɐce?</td>\n",
       "    </tr>\n",
       "    <tr>\n",
       "      <th>1</th>\n",
       "      <td>ke͡u̯ kɐɾo ɪʲɐ nɐ͡ɪ̯।</td>\n",
       "    </tr>\n",
       "    <tr>\n",
       "      <th>2</th>\n",
       "      <td>elɐ o͡ɪ̯ ɟe, kɐ͡ɪ̯lkɐ bɛtɐe̯ ɪpot̪ɐɾɪ ɐnce, kʰ...</td>\n",
       "    </tr>\n",
       "    <tr>\n",
       "      <th>3</th>\n",
       "      <td>ɐɾ mu͡ɪ̯ ɐgot̪ kɪ koɾcɪnu?</td>\n",
       "    </tr>\n",
       "    <tr>\n",
       "      <th>4</th>\n",
       "      <td>&lt;&gt; ɐgeɾ kɔt̪ɐ bɐd̪ d̪e͡o̯, elɐ nɐ͡ɪ̯।</td>\n",
       "    </tr>\n",
       "  </tbody>\n",
       "</table>\n",
       "</div>"
      ],
      "text/plain": [
       "                                               string\n",
       "id                                                   \n",
       "0     elɐ ʃɔbɐe̯ ʃɔbɐɾ  hɐt̪ot̪ <> ɔʃɔhɐe̯ mɐnuʃ ɐce?\n",
       "1                               ke͡u̯ kɐɾo ɪʲɐ nɐ͡ɪ̯।\n",
       "2   elɐ o͡ɪ̯ ɟe, kɐ͡ɪ̯lkɐ bɛtɐe̯ ɪpot̪ɐɾɪ ɐnce, kʰ...\n",
       "3                          ɐɾ mu͡ɪ̯ ɐgot̪ kɪ koɾcɪnu?\n",
       "4               <> ɐgeɾ kɔt̪ɐ bɐd̪ d̪e͡o̯, elɐ nɐ͡ɪ̯।"
      ]
     },
     "execution_count": 10,
     "metadata": {},
     "output_type": "execute_result"
    }
   ],
   "source": [
    "test_df.index.names = ['id']\n",
    "test_df = test_df.drop(columns=['Contents'])\n",
    "test_df.rename(columns={'ipa': 'string'},inplace=True)\n",
    "test_df.head()"
   ]
  },
  {
   "cell_type": "code",
   "execution_count": 11,
   "id": "2d06a2fb",
   "metadata": {
    "execution": {
     "iopub.execute_input": "2024-02-28T18:47:27.373289Z",
     "iopub.status.busy": "2024-02-28T18:47:27.372414Z",
     "iopub.status.idle": "2024-02-28T18:47:27.406311Z",
     "shell.execute_reply": "2024-02-28T18:47:27.405362Z"
    },
    "papermill": {
     "duration": 0.040873,
     "end_time": "2024-02-28T18:47:27.408430",
     "exception": false,
     "start_time": "2024-02-28T18:47:27.367557",
     "status": "completed"
    },
    "tags": []
   },
   "outputs": [],
   "source": [
    "test_df.to_csv(\"submission_bytebase.csv\")"
   ]
  }
 ],
 "metadata": {
  "kaggle": {
   "accelerator": "gpu",
   "dataSources": [
    {
     "databundleVersionId": 7743921,
     "sourceId": 70573,
     "sourceType": "competition"
    },
    {
     "sourceId": 164653780,
     "sourceType": "kernelVersion"
    }
   ],
   "dockerImageVersionId": 30648,
   "isGpuEnabled": true,
   "isInternetEnabled": true,
   "language": "python",
   "sourceType": "notebook"
  },
  "kernelspec": {
   "display_name": "Python 3",
   "language": "python",
   "name": "python3"
  },
  "language_info": {
   "codemirror_mode": {
    "name": "ipython",
    "version": 3
   },
   "file_extension": ".py",
   "mimetype": "text/x-python",
   "name": "python",
   "nbconvert_exporter": "python",
   "pygments_lexer": "ipython3",
   "version": "3.10.13"
  },
  "papermill": {
   "default_parameters": {},
   "duration": 357.407904,
   "end_time": "2024-02-28T18:47:31.025432",
   "environment_variables": {},
   "exception": null,
   "input_path": "__notebook__.ipynb",
   "output_path": "__notebook__.ipynb",
   "parameters": {},
   "start_time": "2024-02-28T18:41:33.617528",
   "version": "2.5.0"
  }
 },
 "nbformat": 4,
 "nbformat_minor": 5
}
