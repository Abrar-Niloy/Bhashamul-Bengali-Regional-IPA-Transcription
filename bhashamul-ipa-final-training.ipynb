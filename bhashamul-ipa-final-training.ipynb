{
 "cells": [
  {
   "cell_type": "markdown",
   "id": "d5ea8421",
   "metadata": {
    "_cell_guid": "b1076dfc-b9ad-4769-8c92-a6c4dae69d19",
    "_uuid": "8f2839f25d086af736a60e9eeb907d3b93b6e0e5",
    "papermill": {
     "duration": 0.00637,
     "end_time": "2024-02-28T07:22:48.675761",
     "exception": false,
     "start_time": "2024-02-28T07:22:48.669391",
     "status": "completed"
    },
    "tags": []
   },
   "source": [
    "## EDA (Exploratory Data Analysis)"
   ]
  },
  {
   "cell_type": "code",
   "execution_count": 1,
   "id": "23c217c1",
   "metadata": {
    "execution": {
     "iopub.execute_input": "2024-02-28T07:22:48.688343Z",
     "iopub.status.busy": "2024-02-28T07:22:48.688054Z",
     "iopub.status.idle": "2024-02-28T07:22:50.845231Z",
     "shell.execute_reply": "2024-02-28T07:22:50.844409Z"
    },
    "papermill": {
     "duration": 2.166013,
     "end_time": "2024-02-28T07:22:50.847570",
     "exception": false,
     "start_time": "2024-02-28T07:22:48.681557",
     "status": "completed"
    },
    "tags": []
   },
   "outputs": [],
   "source": [
    "import pandas as pd\n",
    "import seaborn as sns\n",
    "import matplotlib.pyplot as plt\n",
    "train_df = pd.read_csv(\"/kaggle/input/regipa/train_regipa.csv\")\n",
    "test_df = pd.read_csv(\"/kaggle/input/regipa/test_regipa.csv\", index_col=\"Index\")"
   ]
  },
  {
   "cell_type": "code",
   "execution_count": 2,
   "id": "c077b8bd",
   "metadata": {
    "execution": {
     "iopub.execute_input": "2024-02-28T07:22:50.860986Z",
     "iopub.status.busy": "2024-02-28T07:22:50.860454Z",
     "iopub.status.idle": "2024-02-28T07:22:50.878597Z",
     "shell.execute_reply": "2024-02-28T07:22:50.877796Z"
    },
    "papermill": {
     "duration": 0.026711,
     "end_time": "2024-02-28T07:22:50.880585",
     "exception": false,
     "start_time": "2024-02-28T07:22:50.853874",
     "status": "completed"
    },
    "tags": []
   },
   "outputs": [
    {
     "data": {
      "text/html": [
       "<div>\n",
       "<style scoped>\n",
       "    .dataframe tbody tr th:only-of-type {\n",
       "        vertical-align: middle;\n",
       "    }\n",
       "\n",
       "    .dataframe tbody tr th {\n",
       "        vertical-align: top;\n",
       "    }\n",
       "\n",
       "    .dataframe thead th {\n",
       "        text-align: right;\n",
       "    }\n",
       "</style>\n",
       "<table border=\"1\" class=\"dataframe\">\n",
       "  <thead>\n",
       "    <tr style=\"text-align: right;\">\n",
       "      <th></th>\n",
       "      <th>Contents</th>\n",
       "      <th>IPA</th>\n",
       "    </tr>\n",
       "  </thead>\n",
       "  <tbody>\n",
       "    <tr>\n",
       "      <th>0</th>\n",
       "      <td>লেখিয়্যা, কালি দিয়্যা, সেই সুন্দর করিয়া, এখন স...</td>\n",
       "      <td>lekʰɪʲt̪ɐ, kɐlɪ d̪ɪkt̪ɐ, ʃe͡ɪ̯ ʃund̪ɔɾ koɾɪʲɐ,...</td>\n",
       "    </tr>\n",
       "    <tr>\n",
       "      <th>1</th>\n",
       "      <td>হ, একটা ফিল্ডিং গ্রুপ ছিলো।</td>\n",
       "      <td>ho, ɛktɐ pʰɪldɪŋ gɾup cʰɪlo।</td>\n",
       "    </tr>\n",
       "    <tr>\n",
       "      <th>2</th>\n",
       "      <td>হ, ওরে কতা &lt;&gt; বুজচি বিষয়টা, ওয় তো এখনও বেরাজিল...</td>\n",
       "      <td>ho, oɾe kɔt̪ɐ &lt;&gt; buɟcɪ bɪʃɔʲtɐ, oe̯ t̪o ɛkʰono...</td>\n",
       "    </tr>\n",
       "    <tr>\n",
       "      <th>3</th>\n",
       "      <td>সিডায়, ওই সমায় আমরা ওই কানির রুমটাত যকন আছনো এ...</td>\n",
       "      <td>ʃɪdɐe̯, o͡ɪ̯ ʃɔmɐe̯ ɐmɾɐ o͡ɪ̯ kɐnɪɾ ɾumtɐt̪ ɟɔ...</td>\n",
       "    </tr>\n",
       "    <tr>\n",
       "      <th>4</th>\n",
       "      <td>যকন কী ইয়্যা হইছিল, ওই যে সুমন আর হইলো আলম &lt;&gt; ...</td>\n",
       "      <td>ɟɔkon kɪ ɪʲlɐ ho͡ɪ̯cʰɪlo, o͡ɪ̯ ɟe ʃumɔn ɐɾ ho͡...</td>\n",
       "    </tr>\n",
       "  </tbody>\n",
       "</table>\n",
       "</div>"
      ],
      "text/plain": [
       "                                            Contents  \\\n",
       "0  লেখিয়্যা, কালি দিয়্যা, সেই সুন্দর করিয়া, এখন স...   \n",
       "1                        হ, একটা ফিল্ডিং গ্রুপ ছিলো।   \n",
       "2  হ, ওরে কতা <> বুজচি বিষয়টা, ওয় তো এখনও বেরাজিল...   \n",
       "3  সিডায়, ওই সমায় আমরা ওই কানির রুমটাত যকন আছনো এ...   \n",
       "4  যকন কী ইয়্যা হইছিল, ওই যে সুমন আর হইলো আলম <> ...   \n",
       "\n",
       "                                                 IPA  \n",
       "0  lekʰɪʲt̪ɐ, kɐlɪ d̪ɪkt̪ɐ, ʃe͡ɪ̯ ʃund̪ɔɾ koɾɪʲɐ,...  \n",
       "1                       ho, ɛktɐ pʰɪldɪŋ gɾup cʰɪlo।  \n",
       "2  ho, oɾe kɔt̪ɐ <> buɟcɪ bɪʃɔʲtɐ, oe̯ t̪o ɛkʰono...  \n",
       "3  ʃɪdɐe̯, o͡ɪ̯ ʃɔmɐe̯ ɐmɾɐ o͡ɪ̯ kɐnɪɾ ɾumtɐt̪ ɟɔ...  \n",
       "4  ɟɔkon kɪ ɪʲlɐ ho͡ɪ̯cʰɪlo, o͡ɪ̯ ɟe ʃumɔn ɐɾ ho͡...  "
      ]
     },
     "execution_count": 2,
     "metadata": {},
     "output_type": "execute_result"
    }
   ],
   "source": [
    "train_df = train_df.drop(columns=['Index','District'])\n",
    "train_df.head()"
   ]
  },
  {
   "cell_type": "code",
   "execution_count": 3,
   "id": "3624a1c0",
   "metadata": {
    "execution": {
     "iopub.execute_input": "2024-02-28T07:22:50.893667Z",
     "iopub.status.busy": "2024-02-28T07:22:50.893427Z",
     "iopub.status.idle": "2024-02-28T07:22:50.901692Z",
     "shell.execute_reply": "2024-02-28T07:22:50.900869Z"
    },
    "papermill": {
     "duration": 0.017197,
     "end_time": "2024-02-28T07:22:50.903866",
     "exception": false,
     "start_time": "2024-02-28T07:22:50.886669",
     "status": "completed"
    },
    "tags": []
   },
   "outputs": [
    {
     "data": {
      "text/html": [
       "<div>\n",
       "<style scoped>\n",
       "    .dataframe tbody tr th:only-of-type {\n",
       "        vertical-align: middle;\n",
       "    }\n",
       "\n",
       "    .dataframe tbody tr th {\n",
       "        vertical-align: top;\n",
       "    }\n",
       "\n",
       "    .dataframe thead th {\n",
       "        text-align: right;\n",
       "    }\n",
       "</style>\n",
       "<table border=\"1\" class=\"dataframe\">\n",
       "  <thead>\n",
       "    <tr style=\"text-align: right;\">\n",
       "      <th></th>\n",
       "      <th>Contents</th>\n",
       "    </tr>\n",
       "    <tr>\n",
       "      <th>Index</th>\n",
       "      <th></th>\n",
       "    </tr>\n",
       "  </thead>\n",
       "  <tbody>\n",
       "    <tr>\n",
       "      <th>0</th>\n",
       "      <td>এলা সবায় সবার  হাতোত &lt;&gt; অসহায় মানুষ আচে?</td>\n",
       "    </tr>\n",
       "    <tr>\n",
       "      <th>1</th>\n",
       "      <td>কেউ কারো ইয়া নাই।</td>\n",
       "    </tr>\n",
       "    <tr>\n",
       "      <th>2</th>\n",
       "      <td>এলা ওই যে, কাইলকা ব্যাটায় ইপতারি আনচে, খাইচোং,...</td>\n",
       "    </tr>\n",
       "    <tr>\n",
       "      <th>3</th>\n",
       "      <td>আর মুই আগোত কী করচিনু?</td>\n",
       "    </tr>\n",
       "    <tr>\n",
       "      <th>4</th>\n",
       "      <td>&lt;&gt; আগের কতা বাদ দেও, এলা নাই।</td>\n",
       "    </tr>\n",
       "  </tbody>\n",
       "</table>\n",
       "</div>"
      ],
      "text/plain": [
       "                                                Contents\n",
       "Index                                                   \n",
       "0               এলা সবায় সবার  হাতোত <> অসহায় মানুষ আচে?\n",
       "1                                      কেউ কারো ইয়া নাই।\n",
       "2      এলা ওই যে, কাইলকা ব্যাটায় ইপতারি আনচে, খাইচোং,...\n",
       "3                                 আর মুই আগোত কী করচিনু?\n",
       "4                          <> আগের কতা বাদ দেও, এলা নাই।"
      ]
     },
     "execution_count": 3,
     "metadata": {},
     "output_type": "execute_result"
    }
   ],
   "source": [
    "test_df = test_df.drop(columns=['District'])\n",
    "test_df.head()"
   ]
  },
  {
   "cell_type": "code",
   "execution_count": 4,
   "id": "b41dc4f8",
   "metadata": {
    "execution": {
     "iopub.execute_input": "2024-02-28T07:22:50.917464Z",
     "iopub.status.busy": "2024-02-28T07:22:50.917234Z",
     "iopub.status.idle": "2024-02-28T07:22:50.940623Z",
     "shell.execute_reply": "2024-02-28T07:22:50.939791Z"
    },
    "papermill": {
     "duration": 0.032283,
     "end_time": "2024-02-28T07:22:50.942448",
     "exception": false,
     "start_time": "2024-02-28T07:22:50.910165",
     "status": "completed"
    },
    "tags": []
   },
   "outputs": [
    {
     "data": {
      "text/plain": [
       "Contents  IPA  \n",
       "False     False    30311\n",
       "Name: count, dtype: int64"
      ]
     },
     "metadata": {},
     "output_type": "display_data"
    },
    {
     "data": {
      "text/plain": [
       "Contents\n",
       "False       8941\n",
       "Name: count, dtype: int64"
      ]
     },
     "metadata": {},
     "output_type": "display_data"
    }
   ],
   "source": [
    "display(train_df.isna().value_counts())\n",
    "display(test_df.isna().value_counts())"
   ]
  },
  {
   "cell_type": "code",
   "execution_count": 5,
   "id": "40314c9d",
   "metadata": {
    "execution": {
     "iopub.execute_input": "2024-02-28T07:22:50.956074Z",
     "iopub.status.busy": "2024-02-28T07:22:50.955842Z",
     "iopub.status.idle": "2024-02-28T07:22:50.968909Z",
     "shell.execute_reply": "2024-02-28T07:22:50.968233Z"
    },
    "papermill": {
     "duration": 0.022023,
     "end_time": "2024-02-28T07:22:50.970822",
     "exception": false,
     "start_time": "2024-02-28T07:22:50.948799",
     "status": "completed"
    },
    "tags": []
   },
   "outputs": [],
   "source": [
    "train_df.dropna(inplace=True)\n",
    "test_df.dropna(inplace=True)"
   ]
  },
  {
   "cell_type": "code",
   "execution_count": 6,
   "id": "2b21f3a6",
   "metadata": {
    "execution": {
     "iopub.execute_input": "2024-02-28T07:22:50.985074Z",
     "iopub.status.busy": "2024-02-28T07:22:50.984805Z",
     "iopub.status.idle": "2024-02-28T07:22:50.989278Z",
     "shell.execute_reply": "2024-02-28T07:22:50.988467Z"
    },
    "papermill": {
     "duration": 0.013703,
     "end_time": "2024-02-28T07:22:50.991242",
     "exception": false,
     "start_time": "2024-02-28T07:22:50.977539",
     "status": "completed"
    },
    "tags": []
   },
   "outputs": [
    {
     "name": "stdout",
     "output_type": "stream",
     "text": [
      "Total number of training samples: 30311\n",
      "Total number of test samples: 8941\n"
     ]
    }
   ],
   "source": [
    "print(\"Total number of training samples:\", len(train_df))\n",
    "print(\"Total number of test samples:\", len(test_df))"
   ]
  },
  {
   "cell_type": "code",
   "execution_count": 7,
   "id": "043ade21",
   "metadata": {
    "execution": {
     "iopub.execute_input": "2024-02-28T07:22:51.005156Z",
     "iopub.status.busy": "2024-02-28T07:22:51.004920Z",
     "iopub.status.idle": "2024-02-28T07:22:51.573206Z",
     "shell.execute_reply": "2024-02-28T07:22:51.572190Z"
    },
    "papermill": {
     "duration": 0.577594,
     "end_time": "2024-02-28T07:22:51.575335",
     "exception": false,
     "start_time": "2024-02-28T07:22:50.997741",
     "status": "completed"
    },
    "tags": []
   },
   "outputs": [
    {
     "name": "stderr",
     "output_type": "stream",
     "text": [
      "/opt/conda/lib/python3.10/site-packages/seaborn/_oldcore.py:1119: FutureWarning: use_inf_as_na option is deprecated and will be removed in a future version. Convert inf values to NaN before operating instead.\n",
      "  with pd.option_context('mode.use_inf_as_na', True):\n",
      "/opt/conda/lib/python3.10/site-packages/seaborn/_oldcore.py:1119: FutureWarning: use_inf_as_na option is deprecated and will be removed in a future version. Convert inf values to NaN before operating instead.\n",
      "  with pd.option_context('mode.use_inf_as_na', True):\n"
     ]
    },
    {
     "data": {
      "image/png": "[encoded data removed]",
      "text/plain": [
       "<Figure size 1500x500 with 2 Axes>"
      ]
     },
     "metadata": {},
     "output_type": "display_data"
    }
   ],
   "source": [
    "fig, axes = plt.subplots(1, 2, figsize=(15, 5), sharey=True)\n",
    "\n",
    "train_lengths = train_df[\"Contents\"].str.len()\n",
    "sns.histplot(ax=axes[0], data=train_lengths, bins=10).set(xlabel=\"Length of training text samples\")\n",
    "axes[0].axvline(train_lengths.mean(), c=\"k\", ls=\"--\", lw=2.5, label=\"Mean\")\n",
    "axes[0].legend()\n",
    "\n",
    "test_lengths = test_df[\"Contents\"].str.len()\n",
    "sns.histplot(ax=axes[1], data=test_lengths, bins=10).set(xlabel=\"Length of test text samples\")\n",
    "axes[1].axvline(test_lengths.mean(), c=\"k\", ls=\"--\", lw=2.5, label=\"Mean\")\n",
    "axes[1].legend()\n",
    "\n",
    "\n",
    "plt.show()"
   ]
  },
  {
   "cell_type": "code",
   "execution_count": 8,
   "id": "23ba0fd6",
   "metadata": {
    "execution": {
     "iopub.execute_input": "2024-02-28T07:22:51.591073Z",
     "iopub.status.busy": "2024-02-28T07:22:51.590758Z",
     "iopub.status.idle": "2024-02-28T07:23:04.840919Z",
     "shell.execute_reply": "2024-02-28T07:23:04.839803Z"
    },
    "papermill": {
     "duration": 13.260684,
     "end_time": "2024-02-28T07:23:04.843464",
     "exception": false,
     "start_time": "2024-02-28T07:22:51.582780",
     "status": "completed"
    },
    "tags": []
   },
   "outputs": [
    {
     "name": "stdout",
     "output_type": "stream",
     "text": [
      "Collecting jiwer\r\n",
      "  Downloading jiwer-3.0.3-py3-none-any.whl.metadata (2.6 kB)\r\n",
      "Requirement already satisfied: click<9.0.0,>=8.1.3 in /opt/conda/lib/python3.10/site-packages (from jiwer) (8.1.7)\r\n",
      "Requirement already satisfied: rapidfuzz<4,>=3 in /opt/conda/lib/python3.10/site-packages (from jiwer) (3.6.1)\r\n",
      "Downloading jiwer-3.0.3-py3-none-any.whl (21 kB)\r\n",
      "Installing collected packages: jiwer\r\n",
      "Successfully installed jiwer-3.0.3\r\n"
     ]
    }
   ],
   "source": [
    "# For calculating WER (Word Error Rate)\n",
    "! pip install jiwer"
   ]
  },
  {
   "cell_type": "markdown",
   "id": "d6420e2e",
   "metadata": {
    "papermill": {
     "duration": 0.007399,
     "end_time": "2024-02-28T07:23:04.859724",
     "exception": false,
     "start_time": "2024-02-28T07:23:04.852325",
     "status": "completed"
    },
    "tags": []
   },
   "source": [
    "## Training"
   ]
  },
  {
   "cell_type": "markdown",
   "id": "1928169b",
   "metadata": {
    "papermill": {
     "duration": 0.00738,
     "end_time": "2024-02-28T07:23:04.874563",
     "exception": false,
     "start_time": "2024-02-28T07:23:04.867183",
     "status": "completed"
    },
    "tags": []
   },
   "source": [
    "***I used a 10% validation dataset to train the model and at 17000 steps, I achieved a respectable score. So now I will train using nearly the entire training data set while maintaining the same model parameters.***"
   ]
  },
  {
   "cell_type": "code",
   "execution_count": 9,
   "id": "8872ff35",
   "metadata": {
    "execution": {
     "iopub.execute_input": "2024-02-28T07:23:04.891560Z",
     "iopub.status.busy": "2024-02-28T07:23:04.890773Z",
     "iopub.status.idle": "2024-02-28T07:23:05.131418Z",
     "shell.execute_reply": "2024-02-28T07:23:05.130626Z"
    },
    "papermill": {
     "duration": 0.251397,
     "end_time": "2024-02-28T07:23:05.133517",
     "exception": false,
     "start_time": "2024-02-28T07:23:04.882120",
     "status": "completed"
    },
    "tags": []
   },
   "outputs": [],
   "source": [
    "import pandas as pd\n",
    "from sklearn.model_selection import train_test_split\n",
    "\n",
    "train_df, val_df = train_test_split(train_df, test_size=0.0003, shuffle=True, random_state=3000)\n",
    "train_df = train_df.reset_index(drop=True)\n",
    "val_df = val_df.reset_index(drop=True)"
   ]
  },
  {
   "cell_type": "code",
   "execution_count": 10,
   "id": "870181c2",
   "metadata": {
    "execution": {
     "iopub.execute_input": "2024-02-28T07:23:05.150331Z",
     "iopub.status.busy": "2024-02-28T07:23:05.149535Z",
     "iopub.status.idle": "2024-02-28T07:23:05.155606Z",
     "shell.execute_reply": "2024-02-28T07:23:05.154784Z"
    },
    "papermill": {
     "duration": 0.016414,
     "end_time": "2024-02-28T07:23:05.157566",
     "exception": false,
     "start_time": "2024-02-28T07:23:05.141152",
     "status": "completed"
    },
    "tags": []
   },
   "outputs": [
    {
     "data": {
      "text/plain": [
       "10"
      ]
     },
     "execution_count": 10,
     "metadata": {},
     "output_type": "execute_result"
    }
   ],
   "source": [
    "len(val_df)"
   ]
  },
  {
   "cell_type": "code",
   "execution_count": 11,
   "id": "b810c891",
   "metadata": {
    "execution": {
     "iopub.execute_input": "2024-02-28T07:23:05.173973Z",
     "iopub.status.busy": "2024-02-28T07:23:05.173683Z",
     "iopub.status.idle": "2024-02-28T07:23:06.250823Z",
     "shell.execute_reply": "2024-02-28T07:23:06.250048Z"
    },
    "papermill": {
     "duration": 1.088006,
     "end_time": "2024-02-28T07:23:06.253292",
     "exception": false,
     "start_time": "2024-02-28T07:23:05.165286",
     "status": "completed"
    },
    "tags": []
   },
   "outputs": [],
   "source": [
    "from datasets import Dataset\n",
    "\n",
    "ds_train = Dataset.from_pandas(train_df)\n",
    "ds_eval = Dataset.from_pandas(val_df)"
   ]
  },
  {
   "cell_type": "markdown",
   "id": "3b56fe10",
   "metadata": {
    "papermill": {
     "duration": 0.007488,
     "end_time": "2024-02-28T07:23:06.268616",
     "exception": false,
     "start_time": "2024-02-28T07:23:06.261128",
     "status": "completed"
    },
    "tags": []
   },
   "source": [
    "### Model\n",
    "\n"
   ]
  },
  {
   "cell_type": "markdown",
   "id": "7aa4c06a",
   "metadata": {
    "papermill": {
     "duration": 0.007475,
     "end_time": "2024-02-28T07:23:06.283530",
     "exception": false,
     "start_time": "2024-02-28T07:23:06.276055",
     "status": "completed"
    },
    "tags": []
   },
   "source": [
    "**For this dataset, I primarily train with 'google/byt5-small' Transformer. First, I train the model using the 'DataVerse Challenge - ITVerse 2023' competition dataset. Use the model checkpoint to train on this dataset.**\n"
   ]
  },
  {
   "cell_type": "code",
   "execution_count": 12,
   "id": "d3a6682d",
   "metadata": {
    "execution": {
     "iopub.execute_input": "2024-02-28T07:23:06.300569Z",
     "iopub.status.busy": "2024-02-28T07:23:06.299687Z",
     "iopub.status.idle": "2024-02-28T07:23:34.716735Z",
     "shell.execute_reply": "2024-02-28T07:23:34.715849Z"
    },
    "papermill": {
     "duration": 28.428001,
     "end_time": "2024-02-28T07:23:34.719040",
     "exception": false,
     "start_time": "2024-02-28T07:23:06.291039",
     "status": "completed"
    },
    "tags": []
   },
   "outputs": [
    {
     "name": "stderr",
     "output_type": "stream",
     "text": [
      "2024-02-28 07:23:14.018221: E external/local_xla/xla/stream_executor/cuda/cuda_dnn.cc:9261] Unable to register cuDNN factory: Attempting to register factory for plugin cuDNN when one has already been registered\n",
      "2024-02-28 07:23:14.018344: E external/local_xla/xla/stream_executor/cuda/cuda_fft.cc:607] Unable to register cuFFT factory: Attempting to register factory for plugin cuFFT when one has already been registered\n",
      "2024-02-28 07:23:14.150420: E external/local_xla/xla/stream_executor/cuda/cuda_blas.cc:1515] Unable to register cuBLAS factory: Attempting to register factory for plugin cuBLAS when one has already been registered\n",
      "/opt/conda/lib/python3.10/site-packages/torch/_utils.py:831: UserWarning: TypedStorage is deprecated. It will be removed in the future and UntypedStorage will be the only storage class. This should only matter to you if you are using storages directly.  To access UntypedStorage directly, use tensor.untyped_storage() instead of tensor.storage()\n",
      "  return self.fget.__get__(instance, owner)()\n"
     ]
    }
   ],
   "source": [
    "from transformers import AutoTokenizer, AutoModelForSeq2SeqLM, DataCollatorForSeq2Seq\n",
    "\n",
    "model_id = \"/kaggle/input/model-checkpoint-trained-on-dataverse/Model/\"\n",
    "tokenizer = AutoTokenizer.from_pretrained(model_id)\n",
    "model = AutoModelForSeq2SeqLM.from_pretrained(model_id)\n",
    "data_collator = DataCollatorForSeq2Seq(tokenizer)"
   ]
  },
  {
   "cell_type": "code",
   "execution_count": 13,
   "id": "49c13d40",
   "metadata": {
    "execution": {
     "iopub.execute_input": "2024-02-28T07:23:34.738189Z",
     "iopub.status.busy": "2024-02-28T07:23:34.737154Z",
     "iopub.status.idle": "2024-02-28T07:23:47.930039Z",
     "shell.execute_reply": "2024-02-28T07:23:47.929268Z"
    },
    "papermill": {
     "duration": 13.204754,
     "end_time": "2024-02-28T07:23:47.932661",
     "exception": false,
     "start_time": "2024-02-28T07:23:34.727907",
     "status": "completed"
    },
    "tags": []
   },
   "outputs": [
    {
     "data": {
      "application/vnd.jupyter.widget-view+json": {
       "model_id": "67520832db0a45eebacc60898e395f3d",
       "version_major": 2,
       "version_minor": 0
      },
      "text/plain": [
       "  0%|          | 0/30301 [00:00<?, ?ex/s]"
      ]
     },
     "metadata": {},
     "output_type": "display_data"
    },
    {
     "data": {
      "application/vnd.jupyter.widget-view+json": {
       "model_id": "fb469fa3b9c44d76a810927006a52356",
       "version_major": 2,
       "version_minor": 0
      },
      "text/plain": [
       "  0%|          | 0/10 [00:00<?, ?ex/s]"
      ]
     },
     "metadata": {},
     "output_type": "display_data"
    }
   ],
   "source": [
    "def prepare_dataset(sample):\n",
    "    output = tokenizer(sample[\"Contents\"])\n",
    "    output[\"labels\"] = tokenizer(sample[\"IPA\"])['input_ids']\n",
    "    output[\"length\"] = len(output[\"labels\"])\n",
    "    #print(output)\n",
    "    return output\n",
    "\n",
    "\n",
    "ds_train = ds_train.map(prepare_dataset, remove_columns=ds_train.column_names)\n",
    "ds_eval = ds_eval.map(prepare_dataset, remove_columns=ds_eval.column_names)"
   ]
  },
  {
   "cell_type": "code",
   "execution_count": 14,
   "id": "280d0a45",
   "metadata": {
    "execution": {
     "iopub.execute_input": "2024-02-28T07:23:47.952461Z",
     "iopub.status.busy": "2024-02-28T07:23:47.952174Z",
     "iopub.status.idle": "2024-02-28T07:23:47.956518Z",
     "shell.execute_reply": "2024-02-28T07:23:47.955734Z"
    },
    "papermill": {
     "duration": 0.015365,
     "end_time": "2024-02-28T07:23:47.958391",
     "exception": false,
     "start_time": "2024-02-28T07:23:47.943026",
     "status": "completed"
    },
    "tags": []
   },
   "outputs": [
    {
     "name": "stdout",
     "output_type": "stream",
     "text": [
      "Dataset({\n",
      "    features: ['input_ids', 'attention_mask', 'labels', 'length'],\n",
      "    num_rows: 30301\n",
      "})\n"
     ]
    }
   ],
   "source": [
    "print(ds_train)"
   ]
  },
  {
   "cell_type": "code",
   "execution_count": 15,
   "id": "14dfd220",
   "metadata": {
    "execution": {
     "iopub.execute_input": "2024-02-28T07:23:47.975977Z",
     "iopub.status.busy": "2024-02-28T07:23:47.975511Z",
     "iopub.status.idle": "2024-02-28T07:23:48.588776Z",
     "shell.execute_reply": "2024-02-28T07:23:48.588073Z"
    },
    "papermill": {
     "duration": 0.62407,
     "end_time": "2024-02-28T07:23:48.590695",
     "exception": false,
     "start_time": "2024-02-28T07:23:47.966625",
     "status": "completed"
    },
    "tags": []
   },
   "outputs": [
    {
     "data": {
      "application/vnd.jupyter.widget-view+json": {
       "model_id": "a6e0605165804449b8ce5e7d940ccf5b",
       "version_major": 2,
       "version_minor": 0
      },
      "text/plain": [
       "Downloading builder script:   0%|          | 0.00/1.90k [00:00<?, ?B/s]"
      ]
     },
     "metadata": {},
     "output_type": "display_data"
    }
   ],
   "source": [
    "import numpy as np\n",
    "from datasets import load_metric\n",
    "\n",
    "wer_metric = load_metric(\"wer\")\n",
    "\n",
    "\n",
    "def compute_metrics(eval_preds):\n",
    "    preds, labels = eval_preds\n",
    "    \n",
    "    if isinstance(preds, tuple):\n",
    "        preds = preds[0]\n",
    "    \n",
    "    preds = np.where(preds != -100, preds, tokenizer.pad_token_id)\n",
    "    decoded_preds = tokenizer.batch_decode(preds, skip_special_tokens=True)\n",
    "\n",
    "    labels = np.where(labels != -100, labels, tokenizer.pad_token_id)\n",
    "    decoded_labels = tokenizer.batch_decode(labels, skip_special_tokens=True)\n",
    "\n",
    "    result = wer_metric.compute(predictions=decoded_preds, references=decoded_labels)\n",
    "    return {\"wer\": result}"
   ]
  },
  {
   "cell_type": "code",
   "execution_count": 16,
   "id": "403bfa4a",
   "metadata": {
    "execution": {
     "iopub.execute_input": "2024-02-28T07:23:48.609727Z",
     "iopub.status.busy": "2024-02-28T07:23:48.609470Z",
     "iopub.status.idle": "2024-02-28T07:23:48.704899Z",
     "shell.execute_reply": "2024-02-28T07:23:48.704166Z"
    },
    "papermill": {
     "duration": 0.107148,
     "end_time": "2024-02-28T07:23:48.706950",
     "exception": false,
     "start_time": "2024-02-28T07:23:48.599802",
     "status": "completed"
    },
    "tags": []
   },
   "outputs": [],
   "source": [
    "from transformers import Seq2SeqTrainer, Seq2SeqTrainingArguments\n",
    "\n",
    "model_id = \"bytet5-banglaregional-text-to-ipa-Final\"\n",
    "training_args = Seq2SeqTrainingArguments(\n",
    "    output_dir=model_id,\n",
    "    group_by_length=True,\n",
    "    length_column_name=\"length\",\n",
    "    per_device_train_batch_size=4,\n",
    "    per_device_eval_batch_size=4,\n",
    "    gradient_accumulation_steps=4,\n",
    "    evaluation_strategy=\"steps\",\n",
    "    metric_for_best_model=\"wer\",\n",
    "    greater_is_better=False,\n",
    "    load_best_model_at_end=False,\n",
    "    num_train_epochs=10,\n",
    "    max_steps=17000,\n",
    "    save_steps=1000,\n",
    "    eval_steps=1000,\n",
    "    logging_steps=1000,\n",
    "    learning_rate=3e-4,\n",
    "    weight_decay=1e-2,\n",
    "    warmup_steps=1000,\n",
    "    save_total_limit=3,\n",
    "    predict_with_generate=True,\n",
    "    generation_max_length=512,\n",
    "    push_to_hub=False,\n",
    "    report_to=\"none\",\n",
    ")"
   ]
  },
  {
   "cell_type": "code",
   "execution_count": 17,
   "id": "d81008b8",
   "metadata": {
    "execution": {
     "iopub.execute_input": "2024-02-28T07:23:48.725496Z",
     "iopub.status.busy": "2024-02-28T07:23:48.725237Z",
     "iopub.status.idle": "2024-02-28T10:13:35.598814Z",
     "shell.execute_reply": "2024-02-28T10:13:35.597792Z"
    },
    "papermill": {
     "duration": 10186.885443,
     "end_time": "2024-02-28T10:13:35.601109",
     "exception": false,
     "start_time": "2024-02-28T07:23:48.715666",
     "status": "completed"
    },
    "tags": []
   },
   "outputs": [
    {
     "data": {
      "text/html": [
       "\n",
       "    <div>\n",
       "      \n",
       "      <progress value='17000' max='17000' style='width:300px; height:20px; vertical-align: middle;'></progress>\n",
       "      [17000/17000 2:49:42, Epoch 8/9]\n",
       "    </div>\n",
       "    <table border=\"1\" class=\"dataframe\">\n",
       "  <thead>\n",
       " <tr style=\"text-align: left;\">\n",
       "      <th>Step</th>\n",
       "      <th>Training Loss</th>\n",
       "      <th>Validation Loss</th>\n",
       "      <th>Wer</th>\n",
       "    </tr>\n",
       "  </thead>\n",
       "  <tbody>\n",
       "    <tr>\n",
       "      <td>1000</td>\n",
       "      <td>0.171700</td>\n",
       "      <td>0.044984</td>\n",
       "      <td>0.114754</td>\n",
       "    </tr>\n",
       "    <tr>\n",
       "      <td>2000</td>\n",
       "      <td>0.034600</td>\n",
       "      <td>0.023348</td>\n",
       "      <td>0.049180</td>\n",
       "    </tr>\n",
       "    <tr>\n",
       "      <td>3000</td>\n",
       "      <td>0.025400</td>\n",
       "      <td>0.015817</td>\n",
       "      <td>0.032787</td>\n",
       "    </tr>\n",
       "    <tr>\n",
       "      <td>4000</td>\n",
       "      <td>0.022700</td>\n",
       "      <td>0.009146</td>\n",
       "      <td>0.016393</td>\n",
       "    </tr>\n",
       "    <tr>\n",
       "      <td>5000</td>\n",
       "      <td>0.018400</td>\n",
       "      <td>0.015101</td>\n",
       "      <td>0.049180</td>\n",
       "    </tr>\n",
       "    <tr>\n",
       "      <td>6000</td>\n",
       "      <td>0.016200</td>\n",
       "      <td>0.010972</td>\n",
       "      <td>0.032787</td>\n",
       "    </tr>\n",
       "    <tr>\n",
       "      <td>7000</td>\n",
       "      <td>0.014600</td>\n",
       "      <td>0.026739</td>\n",
       "      <td>0.032787</td>\n",
       "    </tr>\n",
       "    <tr>\n",
       "      <td>8000</td>\n",
       "      <td>0.013600</td>\n",
       "      <td>0.008784</td>\n",
       "      <td>0.049180</td>\n",
       "    </tr>\n",
       "    <tr>\n",
       "      <td>9000</td>\n",
       "      <td>0.011200</td>\n",
       "      <td>0.015066</td>\n",
       "      <td>0.016393</td>\n",
       "    </tr>\n",
       "    <tr>\n",
       "      <td>10000</td>\n",
       "      <td>0.010200</td>\n",
       "      <td>0.004840</td>\n",
       "      <td>0.016393</td>\n",
       "    </tr>\n",
       "    <tr>\n",
       "      <td>11000</td>\n",
       "      <td>0.008700</td>\n",
       "      <td>0.004117</td>\n",
       "      <td>0.016393</td>\n",
       "    </tr>\n",
       "    <tr>\n",
       "      <td>12000</td>\n",
       "      <td>0.007800</td>\n",
       "      <td>0.005947</td>\n",
       "      <td>0.016393</td>\n",
       "    </tr>\n",
       "    <tr>\n",
       "      <td>13000</td>\n",
       "      <td>0.006900</td>\n",
       "      <td>0.005119</td>\n",
       "      <td>0.000000</td>\n",
       "    </tr>\n",
       "    <tr>\n",
       "      <td>14000</td>\n",
       "      <td>0.005600</td>\n",
       "      <td>0.004782</td>\n",
       "      <td>0.000000</td>\n",
       "    </tr>\n",
       "    <tr>\n",
       "      <td>15000</td>\n",
       "      <td>0.005000</td>\n",
       "      <td>0.007598</td>\n",
       "      <td>0.016393</td>\n",
       "    </tr>\n",
       "    <tr>\n",
       "      <td>16000</td>\n",
       "      <td>0.004200</td>\n",
       "      <td>0.005678</td>\n",
       "      <td>0.016393</td>\n",
       "    </tr>\n",
       "    <tr>\n",
       "      <td>17000</td>\n",
       "      <td>0.003900</td>\n",
       "      <td>0.006311</td>\n",
       "      <td>0.016393</td>\n",
       "    </tr>\n",
       "  </tbody>\n",
       "</table><p>"
      ],
      "text/plain": [
       "<IPython.core.display.HTML object>"
      ]
     },
     "metadata": {},
     "output_type": "display_data"
    },
    {
     "data": {
      "text/plain": [
       "TrainOutput(global_step=17000, training_loss=0.022387289243585923, metrics={'train_runtime': 10186.0651, 'train_samples_per_second': 26.703, 'train_steps_per_second': 1.669, 'total_flos': 4.642339510447949e+16, 'train_loss': 0.022387289243585923, 'epoch': 8.98})"
      ]
     },
     "execution_count": 17,
     "metadata": {},
     "output_type": "execute_result"
    }
   ],
   "source": [
    "trainer = Seq2SeqTrainer(\n",
    "    model=model,\n",
    "    tokenizer=tokenizer,\n",
    "    args=training_args,\n",
    "    train_dataset=ds_train,\n",
    "    eval_dataset=ds_eval,\n",
    "    data_collator=data_collator,\n",
    "    compute_metrics=compute_metrics\n",
    ")\n",
    "\n",
    "trainer.train()"
   ]
  },
  {
   "cell_type": "code",
   "execution_count": 18,
   "id": "749e6e34",
   "metadata": {
    "execution": {
     "iopub.execute_input": "2024-02-28T10:13:35.622571Z",
     "iopub.status.busy": "2024-02-28T10:13:35.621808Z",
     "iopub.status.idle": "2024-02-28T10:13:37.781648Z",
     "shell.execute_reply": "2024-02-28T10:13:37.780879Z"
    },
    "papermill": {
     "duration": 2.244519,
     "end_time": "2024-02-28T10:13:37.856309",
     "exception": false,
     "start_time": "2024-02-28T10:13:35.611790",
     "status": "completed"
    },
    "tags": []
   },
   "outputs": [],
   "source": [
    "trainer.save_model(model_id)"
   ]
  }
 ],
 "metadata": {
  "kaggle": {
   "accelerator": "none",
   "dataSources": [
    {
     "databundleVersionId": 7743921,
     "sourceId": 70573,
     "sourceType": "competition"
    },
    {
     "datasetId": 4497449,
     "sourceId": 7703924,
     "sourceType": "datasetVersion"
    }
   ],
   "dockerImageVersionId": 30648,
   "isGpuEnabled": false,
   "isInternetEnabled": true,
   "language": "python",
   "sourceType": "notebook"
  },
  "kernelspec": {
   "display_name": "Python 3",
   "language": "python",
   "name": "python3"
  },
  "language_info": {
   "codemirror_mode": {
    "name": "ipython",
    "version": 3
   },
   "file_extension": ".py",
   "mimetype": "text/x-python",
   "name": "python",
   "nbconvert_exporter": "python",
   "pygments_lexer": "ipython3",
   "version": "3.10.13"
  },
  "papermill": {
   "default_parameters": {},
   "duration": 10255.386917,
   "end_time": "2024-02-28T10:13:41.270290",
   "environment_variables": {},
   "exception": null,
   "input_path": "__notebook__.ipynb",
   "output_path": "__notebook__.ipynb",
   "parameters": {},
   "start_time": "2024-02-28T07:22:45.883373",
   "version": "2.5.0"
  },
  "widgets": {
   "application/vnd.jupyter.widget-state+json": {
    "state": {
     "01f19111f6584074bb181817c939a446": {
      "model_module": "@jupyter-widgets/base",
      "model_module_version": "1.2.0",
      "model_name": "LayoutModel",
      "state": {
       "_model_module": "@jupyter-widgets/base",
       "_model_module_version": "1.2.0",
       "_model_name": "LayoutModel",
       "_view_count": null,
       "_view_module": "@jupyter-widgets/base",
       "_view_module_version": "1.2.0",
       "_view_name": "LayoutView",
       "align_content": null,
       "align_items": null,
       "align_self": null,
       "border": null,
       "bottom": null,
       "display": null,
       "flex": null,
       "flex_flow": null,
       "grid_area": null,
       "grid_auto_columns": null,
       "grid_auto_flow": null,
       "grid_auto_rows": null,
       "grid_column": null,
       "grid_gap": null,
       "grid_row": null,
       "grid_template_areas": null,
       "grid_template_columns": null,
       "grid_template_rows": null,
       "height": null,
       "justify_content": null,
       "justify_items": null,
       "left": null,
       "margin": null,
       "max_height": null,
       "max_width": null,
       "min_height": null,
       "min_width": null,
       "object_fit": null,
       "object_position": null,
       "order": null,
       "overflow": null,
       "overflow_x": null,
       "overflow_y": null,
       "padding": null,
       "right": null,
       "top": null,
       "visibility": null,
       "width": null
      }
     },
     "029395a75b954879b527e2abd94eaa3c": {
      "model_module": "@jupyter-widgets/controls",
      "model_module_version": "1.5.0",
      "model_name": "HTMLModel",
      "state": {
       "_dom_classes": [],
       "_model_module": "@jupyter-widgets/controls",
       "_model_module_version": "1.5.0",
       "_model_name": "HTMLModel",
       "_view_count": null,
       "_view_module": "@jupyter-widgets/controls",
       "_view_module_version": "1.5.0",
       "_view_name": "HTMLView",
       "description": "",
       "description_tooltip": null,
       "layout": "IPY_MODEL_7b8c2aa9335243af8a835542e9652ee4",
       "placeholder": "​",
       "style": "IPY_MODEL_0dfd068bc16244b28bd0556607014a26",
       "value": "Downloading builder script: "
      }
     },
     "0384d80023ad4147bfd3701449b624e8": {
      "model_module": "@jupyter-widgets/controls",
      "model_module_version": "1.5.0",
      "model_name": "FloatProgressModel",
      "state": {
       "_dom_classes": [],
       "_model_module": "@jupyter-widgets/controls",
       "_model_module_version": "1.5.0",
       "_model_name": "FloatProgressModel",
       "_view_count": null,
       "_view_module": "@jupyter-widgets/controls",
       "_view_module_version": "1.5.0",
       "_view_name": "ProgressView",
       "bar_style": "success",
       "description": "",
       "description_tooltip": null,
       "layout": "IPY_MODEL_19390d5d6a9641d9bde96f62cd0b116f",
       "max": 30301.0,
       "min": 0.0,
       "orientation": "horizontal",
       "style": "IPY_MODEL_e55f54438b624f6cafc06b48620d8bd4",
       "value": 30301.0
      }
     },
     "0903f2c3f7dc47c0857fe22065a506ca": {
      "model_module": "@jupyter-widgets/base",
      "model_module_version": "1.2.0",
      "model_name": "LayoutModel",
      "state": {
       "_model_module": "@jupyter-widgets/base",
       "_model_module_version": "1.2.0",
       "_model_name": "LayoutModel",
       "_view_count": null,
       "_view_module": "@jupyter-widgets/base",
       "_view_module_version": "1.2.0",
       "_view_name": "LayoutView",
       "align_content": null,
       "align_items": null,
       "align_self": null,
       "border": null,
       "bottom": null,
       "display": null,
       "flex": null,
       "flex_flow": null,
       "grid_area": null,
       "grid_auto_columns": null,
       "grid_auto_flow": null,
       "grid_auto_rows": null,
       "grid_column": null,
       "grid_gap": null,
       "grid_row": null,
       "grid_template_areas": null,
       "grid_template_columns": null,
       "grid_template_rows": null,
       "height": null,
       "justify_content": null,
       "justify_items": null,
       "left": null,
       "margin": null,
       "max_height": null,
       "max_width": null,
       "min_height": null,
       "min_width": null,
       "object_fit": null,
       "object_position": null,
       "order": null,
       "overflow": null,
       "overflow_x": null,
       "overflow_y": null,
       "padding": null,
       "right": null,
       "top": null,
       "visibility": null,
       "width": null
      }
     },
     "0dfd068bc16244b28bd0556607014a26": {
      "model_module": "@jupyter-widgets/controls",
      "model_module_version": "1.5.0",
      "model_name": "DescriptionStyleModel",
      "state": {
       "_model_module": "@jupyter-widgets/controls",
       "_model_module_version": "1.5.0",
       "_model_name": "DescriptionStyleModel",
       "_view_count": null,
       "_view_module": "@jupyter-widgets/base",
       "_view_module_version": "1.2.0",
       "_view_name": "StyleView",
       "description_width": ""
      }
     },
     "19390d5d6a9641d9bde96f62cd0b116f": {
      "model_module": "@jupyter-widgets/base",
      "model_module_version": "1.2.0",
      "model_name": "LayoutModel",
      "state": {
       "_model_module": "@jupyter-widgets/base",
       "_model_module_version": "1.2.0",
       "_model_name": "LayoutModel",
       "_view_count": null,
       "_view_module": "@jupyter-widgets/base",
       "_view_module_version": "1.2.0",
       "_view_name": "LayoutView",
       "align_content": null,
       "align_items": null,
       "align_self": null,
       "border": null,
       "bottom": null,
       "display": null,
       "flex": null,
       "flex_flow": null,
       "grid_area": null,
       "grid_auto_columns": null,
       "grid_auto_flow": null,
       "grid_auto_rows": null,
       "grid_column": null,
       "grid_gap": null,
       "grid_row": null,
       "grid_template_areas": null,
       "grid_template_columns": null,
       "grid_template_rows": null,
       "height": null,
       "justify_content": null,
       "justify_items": null,
       "left": null,
       "margin": null,
       "max_height": null,
       "max_width": null,
       "min_height": null,
       "min_width": null,
       "object_fit": null,
       "object_position": null,
       "order": null,
       "overflow": null,
       "overflow_x": null,
       "overflow_y": null,
       "padding": null,
       "right": null,
       "top": null,
       "visibility": null,
       "width": null
      }
     },
     "1968e8af89ad4c30b2827daeeeaee4ee": {
      "model_module": "@jupyter-widgets/controls",
      "model_module_version": "1.5.0",
      "model_name": "DescriptionStyleModel",
      "state": {
       "_model_module": "@jupyter-widgets/controls",
       "_model_module_version": "1.5.0",
       "_model_name": "DescriptionStyleModel",
       "_view_count": null,
       "_view_module": "@jupyter-widgets/base",
       "_view_module_version": "1.2.0",
       "_view_name": "StyleView",
       "description_width": ""
      }
     },
     "1f64a653fa344a3c8b13b42fe38f6183": {
      "model_module": "@jupyter-widgets/controls",
      "model_module_version": "1.5.0",
      "model_name": "DescriptionStyleModel",
      "state": {
       "_model_module": "@jupyter-widgets/controls",
       "_model_module_version": "1.5.0",
       "_model_name": "DescriptionStyleModel",
       "_view_count": null,
       "_view_module": "@jupyter-widgets/base",
       "_view_module_version": "1.2.0",
       "_view_name": "StyleView",
       "description_width": ""
      }
     },
     "274d90c86bfb4b0b8463e8eae1485ba0": {
      "model_module": "@jupyter-widgets/base",
      "model_module_version": "1.2.0",
      "model_name": "LayoutModel",
      "state": {
       "_model_module": "@jupyter-widgets/base",
       "_model_module_version": "1.2.0",
       "_model_name": "LayoutModel",
       "_view_count": null,
       "_view_module": "@jupyter-widgets/base",
       "_view_module_version": "1.2.0",
       "_view_name": "LayoutView",
       "align_content": null,
       "align_items": null,
       "align_self": null,
       "border": null,
       "bottom": null,
       "display": null,
       "flex": null,
       "flex_flow": null,
       "grid_area": null,
       "grid_auto_columns": null,
       "grid_auto_flow": null,
       "grid_auto_rows": null,
       "grid_column": null,
       "grid_gap": null,
       "grid_row": null,
       "grid_template_areas": null,
       "grid_template_columns": null,
       "grid_template_rows": null,
       "height": null,
       "justify_content": null,
       "justify_items": null,
       "left": null,
       "margin": null,
       "max_height": null,
       "max_width": null,
       "min_height": null,
       "min_width": null,
       "object_fit": null,
       "object_position": null,
       "order": null,
       "overflow": null,
       "overflow_x": null,
       "overflow_y": null,
       "padding": null,
       "right": null,
       "top": null,
       "visibility": null,
       "width": null
      }
     },
     "28393070d67b443b825b48c8899e72cb": {
      "model_module": "@jupyter-widgets/controls",
      "model_module_version": "1.5.0",
      "model_name": "DescriptionStyleModel",
      "state": {
       "_model_module": "@jupyter-widgets/controls",
       "_model_module_version": "1.5.0",
       "_model_name": "DescriptionStyleModel",
       "_view_count": null,
       "_view_module": "@jupyter-widgets/base",
       "_view_module_version": "1.2.0",
       "_view_name": "StyleView",
       "description_width": ""
      }
     },
     "352d6d9cbc8743ad83b28f01dbe0146d": {
      "model_module": "@jupyter-widgets/base",
      "model_module_version": "1.2.0",
      "model_name": "LayoutModel",
      "state": {
       "_model_module": "@jupyter-widgets/base",
       "_model_module_version": "1.2.0",
       "_model_name": "LayoutModel",
       "_view_count": null,
       "_view_module": "@jupyter-widgets/base",
       "_view_module_version": "1.2.0",
       "_view_name": "LayoutView",
       "align_content": null,
       "align_items": null,
       "align_self": null,
       "border": null,
       "bottom": null,
       "display": null,
       "flex": null,
       "flex_flow": null,
       "grid_area": null,
       "grid_auto_columns": null,
       "grid_auto_flow": null,
       "grid_auto_rows": null,
       "grid_column": null,
       "grid_gap": null,
       "grid_row": null,
       "grid_template_areas": null,
       "grid_template_columns": null,
       "grid_template_rows": null,
       "height": null,
       "justify_content": null,
       "justify_items": null,
       "left": null,
       "margin": null,
       "max_height": null,
       "max_width": null,
       "min_height": null,
       "min_width": null,
       "object_fit": null,
       "object_position": null,
       "order": null,
       "overflow": null,
       "overflow_x": null,
       "overflow_y": null,
       "padding": null,
       "right": null,
       "top": null,
       "visibility": null,
       "width": null
      }
     },
     "3f41bc2a79ce42d1af41a59c29115bfb": {
      "model_module": "@jupyter-widgets/controls",
      "model_module_version": "1.5.0",
      "model_name": "HTMLModel",
      "state": {
       "_dom_classes": [],
       "_model_module": "@jupyter-widgets/controls",
       "_model_module_version": "1.5.0",
       "_model_name": "HTMLModel",
       "_view_count": null,
       "_view_module": "@jupyter-widgets/controls",
       "_view_module_version": "1.5.0",
       "_view_name": "HTMLView",
       "description": "",
       "description_tooltip": null,
       "layout": "IPY_MODEL_0903f2c3f7dc47c0857fe22065a506ca",
       "placeholder": "​",
       "style": "IPY_MODEL_1968e8af89ad4c30b2827daeeeaee4ee",
       "value": " 30301/30301 [00:13&lt;00:00, 2202.71ex/s]"
      }
     },
     "5d91e53f569342119bfadacb4c0eade0": {
      "model_module": "@jupyter-widgets/controls",
      "model_module_version": "1.5.0",
      "model_name": "DescriptionStyleModel",
      "state": {
       "_model_module": "@jupyter-widgets/controls",
       "_model_module_version": "1.5.0",
       "_model_name": "DescriptionStyleModel",
       "_view_count": null,
       "_view_module": "@jupyter-widgets/base",
       "_view_module_version": "1.2.0",
       "_view_name": "StyleView",
       "description_width": ""
      }
     },
     "67520832db0a45eebacc60898e395f3d": {
      "model_module": "@jupyter-widgets/controls",
      "model_module_version": "1.5.0",
      "model_name": "HBoxModel",
      "state": {
       "_dom_classes": [],
       "_model_module": "@jupyter-widgets/controls",
       "_model_module_version": "1.5.0",
       "_model_name": "HBoxModel",
       "_view_count": null,
       "_view_module": "@jupyter-widgets/controls",
       "_view_module_version": "1.5.0",
       "_view_name": "HBoxView",
       "box_style": "",
       "children": [
        "IPY_MODEL_799c541466b544029b38864af4eb28f7",
        "IPY_MODEL_0384d80023ad4147bfd3701449b624e8",
        "IPY_MODEL_3f41bc2a79ce42d1af41a59c29115bfb"
       ],
       "layout": "IPY_MODEL_01f19111f6584074bb181817c939a446"
      }
     },
     "6a36b78a6ecb4bc4b055f0c72ab7fc55": {
      "model_module": "@jupyter-widgets/base",
      "model_module_version": "1.2.0",
      "model_name": "LayoutModel",
      "state": {
       "_model_module": "@jupyter-widgets/base",
       "_model_module_version": "1.2.0",
       "_model_name": "LayoutModel",
       "_view_count": null,
       "_view_module": "@jupyter-widgets/base",
       "_view_module_version": "1.2.0",
       "_view_name": "LayoutView",
       "align_content": null,
       "align_items": null,
       "align_self": null,
       "border": null,
       "bottom": null,
       "display": null,
       "flex": null,
       "flex_flow": null,
       "grid_area": null,
       "grid_auto_columns": null,
       "grid_auto_flow": null,
       "grid_auto_rows": null,
       "grid_column": null,
       "grid_gap": null,
       "grid_row": null,
       "grid_template_areas": null,
       "grid_template_columns": null,
       "grid_template_rows": null,
       "height": null,
       "justify_content": null,
       "justify_items": null,
       "left": null,
       "margin": null,
       "max_height": null,
       "max_width": null,
       "min_height": null,
       "min_width": null,
       "object_fit": null,
       "object_position": null,
       "order": null,
       "overflow": null,
       "overflow_x": null,
       "overflow_y": null,
       "padding": null,
       "right": null,
       "top": null,
       "visibility": null,
       "width": null
      }
     },
     "74315392648b4e80a5daf642114f6e1e": {
      "model_module": "@jupyter-widgets/base",
      "model_module_version": "1.2.0",
      "model_name": "LayoutModel",
      "state": {
       "_model_module": "@jupyter-widgets/base",
       "_model_module_version": "1.2.0",
       "_model_name": "LayoutModel",
       "_view_count": null,
       "_view_module": "@jupyter-widgets/base",
       "_view_module_version": "1.2.0",
       "_view_name": "LayoutView",
       "align_content": null,
       "align_items": null,
       "align_self": null,
       "border": null,
       "bottom": null,
       "display": null,
       "flex": null,
       "flex_flow": null,
       "grid_area": null,
       "grid_auto_columns": null,
       "grid_auto_flow": null,
       "grid_auto_rows": null,
       "grid_column": null,
       "grid_gap": null,
       "grid_row": null,
       "grid_template_areas": null,
       "grid_template_columns": null,
       "grid_template_rows": null,
       "height": null,
       "justify_content": null,
       "justify_items": null,
       "left": null,
       "margin": null,
       "max_height": null,
       "max_width": null,
       "min_height": null,
       "min_width": null,
       "object_fit": null,
       "object_position": null,
       "order": null,
       "overflow": null,
       "overflow_x": null,
       "overflow_y": null,
       "padding": null,
       "right": null,
       "top": null,
       "visibility": null,
       "width": null
      }
     },
     "799c541466b544029b38864af4eb28f7": {
      "model_module": "@jupyter-widgets/controls",
      "model_module_version": "1.5.0",
      "model_name": "HTMLModel",
      "state": {
       "_dom_classes": [],
       "_model_module": "@jupyter-widgets/controls",
       "_model_module_version": "1.5.0",
       "_model_name": "HTMLModel",
       "_view_count": null,
       "_view_module": "@jupyter-widgets/controls",
       "_view_module_version": "1.5.0",
       "_view_name": "HTMLView",
       "description": "",
       "description_tooltip": null,
       "layout": "IPY_MODEL_a316afb5fbad46eab1044b80aef3d0db",
       "placeholder": "​",
       "style": "IPY_MODEL_88f5d5275625456889ec396238de4e54",
       "value": "100%"
      }
     },
     "7b8c2aa9335243af8a835542e9652ee4": {
      "model_module": "@jupyter-widgets/base",
      "model_module_version": "1.2.0",
      "model_name": "LayoutModel",
      "state": {
       "_model_module": "@jupyter-widgets/base",
       "_model_module_version": "1.2.0",
       "_model_name": "LayoutModel",
       "_view_count": null,
       "_view_module": "@jupyter-widgets/base",
       "_view_module_version": "1.2.0",
       "_view_name": "LayoutView",
       "align_content": null,
       "align_items": null,
       "align_self": null,
       "border": null,
       "bottom": null,
       "display": null,
       "flex": null,
       "flex_flow": null,
       "grid_area": null,
       "grid_auto_columns": null,
       "grid_auto_flow": null,
       "grid_auto_rows": null,
       "grid_column": null,
       "grid_gap": null,
       "grid_row": null,
       "grid_template_areas": null,
       "grid_template_columns": null,
       "grid_template_rows": null,
       "height": null,
       "justify_content": null,
       "justify_items": null,
       "left": null,
       "margin": null,
       "max_height": null,
       "max_width": null,
       "min_height": null,
       "min_width": null,
       "object_fit": null,
       "object_position": null,
       "order": null,
       "overflow": null,
       "overflow_x": null,
       "overflow_y": null,
       "padding": null,
       "right": null,
       "top": null,
       "visibility": null,
       "width": null
      }
     },
     "88f5d5275625456889ec396238de4e54": {
      "model_module": "@jupyter-widgets/controls",
      "model_module_version": "1.5.0",
      "model_name": "DescriptionStyleModel",
      "state": {
       "_model_module": "@jupyter-widgets/controls",
       "_model_module_version": "1.5.0",
       "_model_name": "DescriptionStyleModel",
       "_view_count": null,
       "_view_module": "@jupyter-widgets/base",
       "_view_module_version": "1.2.0",
       "_view_name": "StyleView",
       "description_width": ""
      }
     },
     "89269b1adb27463194954a6bfeab475e": {
      "model_module": "@jupyter-widgets/controls",
      "model_module_version": "1.5.0",
      "model_name": "ProgressStyleModel",
      "state": {
       "_model_module": "@jupyter-widgets/controls",
       "_model_module_version": "1.5.0",
       "_model_name": "ProgressStyleModel",
       "_view_count": null,
       "_view_module": "@jupyter-widgets/base",
       "_view_module_version": "1.2.0",
       "_view_name": "StyleView",
       "bar_color": null,
       "description_width": ""
      }
     },
     "904cb44d9c554cf4abd7052b067363bd": {
      "model_module": "@jupyter-widgets/controls",
      "model_module_version": "1.5.0",
      "model_name": "HTMLModel",
      "state": {
       "_dom_classes": [],
       "_model_module": "@jupyter-widgets/controls",
       "_model_module_version": "1.5.0",
       "_model_name": "HTMLModel",
       "_view_count": null,
       "_view_module": "@jupyter-widgets/controls",
       "_view_module_version": "1.5.0",
       "_view_name": "HTMLView",
       "description": "",
       "description_tooltip": null,
       "layout": "IPY_MODEL_74315392648b4e80a5daf642114f6e1e",
       "placeholder": "​",
       "style": "IPY_MODEL_28393070d67b443b825b48c8899e72cb",
       "value": " 4.48k/? [00:00&lt;00:00, 403kB/s]"
      }
     },
     "90c7fec89223489c885f4b1666a5985d": {
      "model_module": "@jupyter-widgets/base",
      "model_module_version": "1.2.0",
      "model_name": "LayoutModel",
      "state": {
       "_model_module": "@jupyter-widgets/base",
       "_model_module_version": "1.2.0",
       "_model_name": "LayoutModel",
       "_view_count": null,
       "_view_module": "@jupyter-widgets/base",
       "_view_module_version": "1.2.0",
       "_view_name": "LayoutView",
       "align_content": null,
       "align_items": null,
       "align_self": null,
       "border": null,
       "bottom": null,
       "display": null,
       "flex": null,
       "flex_flow": null,
       "grid_area": null,
       "grid_auto_columns": null,
       "grid_auto_flow": null,
       "grid_auto_rows": null,
       "grid_column": null,
       "grid_gap": null,
       "grid_row": null,
       "grid_template_areas": null,
       "grid_template_columns": null,
       "grid_template_rows": null,
       "height": null,
       "justify_content": null,
       "justify_items": null,
       "left": null,
       "margin": null,
       "max_height": null,
       "max_width": null,
       "min_height": null,
       "min_width": null,
       "object_fit": null,
       "object_position": null,
       "order": null,
       "overflow": null,
       "overflow_x": null,
       "overflow_y": null,
       "padding": null,
       "right": null,
       "top": null,
       "visibility": null,
       "width": null
      }
     },
     "9169155576844ecebef76ee880927c96": {
      "model_module": "@jupyter-widgets/controls",
      "model_module_version": "1.5.0",
      "model_name": "HTMLModel",
      "state": {
       "_dom_classes": [],
       "_model_module": "@jupyter-widgets/controls",
       "_model_module_version": "1.5.0",
       "_model_name": "HTMLModel",
       "_view_count": null,
       "_view_module": "@jupyter-widgets/controls",
       "_view_module_version": "1.5.0",
       "_view_name": "HTMLView",
       "description": "",
       "description_tooltip": null,
       "layout": "IPY_MODEL_90c7fec89223489c885f4b1666a5985d",
       "placeholder": "​",
       "style": "IPY_MODEL_5d91e53f569342119bfadacb4c0eade0",
       "value": " 10/10 [00:00&lt;00:00, 540.80ex/s]"
      }
     },
     "a316afb5fbad46eab1044b80aef3d0db": {
      "model_module": "@jupyter-widgets/base",
      "model_module_version": "1.2.0",
      "model_name": "LayoutModel",
      "state": {
       "_model_module": "@jupyter-widgets/base",
       "_model_module_version": "1.2.0",
       "_model_name": "LayoutModel",
       "_view_count": null,
       "_view_module": "@jupyter-widgets/base",
       "_view_module_version": "1.2.0",
       "_view_name": "LayoutView",
       "align_content": null,
       "align_items": null,
       "align_self": null,
       "border": null,
       "bottom": null,
       "display": null,
       "flex": null,
       "flex_flow": null,
       "grid_area": null,
       "grid_auto_columns": null,
       "grid_auto_flow": null,
       "grid_auto_rows": null,
       "grid_column": null,
       "grid_gap": null,
       "grid_row": null,
       "grid_template_areas": null,
       "grid_template_columns": null,
       "grid_template_rows": null,
       "height": null,
       "justify_content": null,
       "justify_items": null,
       "left": null,
       "margin": null,
       "max_height": null,
       "max_width": null,
       "min_height": null,
       "min_width": null,
       "object_fit": null,
       "object_position": null,
       "order": null,
       "overflow": null,
       "overflow_x": null,
       "overflow_y": null,
       "padding": null,
       "right": null,
       "top": null,
       "visibility": null,
       "width": null
      }
     },
     "a68b9d5725e645a0ae59ae6037d5f65a": {
      "model_module": "@jupyter-widgets/controls",
      "model_module_version": "1.5.0",
      "model_name": "FloatProgressModel",
      "state": {
       "_dom_classes": [],
       "_model_module": "@jupyter-widgets/controls",
       "_model_module_version": "1.5.0",
       "_model_name": "FloatProgressModel",
       "_view_count": null,
       "_view_module": "@jupyter-widgets/controls",
       "_view_module_version": "1.5.0",
       "_view_name": "ProgressView",
       "bar_style": "success",
       "description": "",
       "description_tooltip": null,
       "layout": "IPY_MODEL_e8815c2bb42e40e89ea719c6794737ff",
       "max": 1901.0,
       "min": 0.0,
       "orientation": "horizontal",
       "style": "IPY_MODEL_a79b81b711f04630b170084c13b6c571",
       "value": 1901.0
      }
     },
     "a6e0605165804449b8ce5e7d940ccf5b": {
      "model_module": "@jupyter-widgets/controls",
      "model_module_version": "1.5.0",
      "model_name": "HBoxModel",
      "state": {
       "_dom_classes": [],
       "_model_module": "@jupyter-widgets/controls",
       "_model_module_version": "1.5.0",
       "_model_name": "HBoxModel",
       "_view_count": null,
       "_view_module": "@jupyter-widgets/controls",
       "_view_module_version": "1.5.0",
       "_view_name": "HBoxView",
       "box_style": "",
       "children": [
        "IPY_MODEL_029395a75b954879b527e2abd94eaa3c",
        "IPY_MODEL_a68b9d5725e645a0ae59ae6037d5f65a",
        "IPY_MODEL_904cb44d9c554cf4abd7052b067363bd"
       ],
       "layout": "IPY_MODEL_274d90c86bfb4b0b8463e8eae1485ba0"
      }
     },
     "a79b81b711f04630b170084c13b6c571": {
      "model_module": "@jupyter-widgets/controls",
      "model_module_version": "1.5.0",
      "model_name": "ProgressStyleModel",
      "state": {
       "_model_module": "@jupyter-widgets/controls",
       "_model_module_version": "1.5.0",
       "_model_name": "ProgressStyleModel",
       "_view_count": null,
       "_view_module": "@jupyter-widgets/base",
       "_view_module_version": "1.2.0",
       "_view_name": "StyleView",
       "bar_color": null,
       "description_width": ""
      }
     },
     "ae53ee2a58f74d5792c00ca3b5258502": {
      "model_module": "@jupyter-widgets/base",
      "model_module_version": "1.2.0",
      "model_name": "LayoutModel",
      "state": {
       "_model_module": "@jupyter-widgets/base",
       "_model_module_version": "1.2.0",
       "_model_name": "LayoutModel",
       "_view_count": null,
       "_view_module": "@jupyter-widgets/base",
       "_view_module_version": "1.2.0",
       "_view_name": "LayoutView",
       "align_content": null,
       "align_items": null,
       "align_self": null,
       "border": null,
       "bottom": null,
       "display": null,
       "flex": null,
       "flex_flow": null,
       "grid_area": null,
       "grid_auto_columns": null,
       "grid_auto_flow": null,
       "grid_auto_rows": null,
       "grid_column": null,
       "grid_gap": null,
       "grid_row": null,
       "grid_template_areas": null,
       "grid_template_columns": null,
       "grid_template_rows": null,
       "height": null,
       "justify_content": null,
       "justify_items": null,
       "left": null,
       "margin": null,
       "max_height": null,
       "max_width": null,
       "min_height": null,
       "min_width": null,
       "object_fit": null,
       "object_position": null,
       "order": null,
       "overflow": null,
       "overflow_x": null,
       "overflow_y": null,
       "padding": null,
       "right": null,
       "top": null,
       "visibility": null,
       "width": null
      }
     },
     "b47cd46a24544128a94c675da9785cc9": {
      "model_module": "@jupyter-widgets/controls",
      "model_module_version": "1.5.0",
      "model_name": "FloatProgressModel",
      "state": {
       "_dom_classes": [],
       "_model_module": "@jupyter-widgets/controls",
       "_model_module_version": "1.5.0",
       "_model_name": "FloatProgressModel",
       "_view_count": null,
       "_view_module": "@jupyter-widgets/controls",
       "_view_module_version": "1.5.0",
       "_view_name": "ProgressView",
       "bar_style": "success",
       "description": "",
       "description_tooltip": null,
       "layout": "IPY_MODEL_ae53ee2a58f74d5792c00ca3b5258502",
       "max": 10.0,
       "min": 0.0,
       "orientation": "horizontal",
       "style": "IPY_MODEL_89269b1adb27463194954a6bfeab475e",
       "value": 10.0
      }
     },
     "e25dad500c554f8692384f99b9fe3c34": {
      "model_module": "@jupyter-widgets/controls",
      "model_module_version": "1.5.0",
      "model_name": "HTMLModel",
      "state": {
       "_dom_classes": [],
       "_model_module": "@jupyter-widgets/controls",
       "_model_module_version": "1.5.0",
       "_model_name": "HTMLModel",
       "_view_count": null,
       "_view_module": "@jupyter-widgets/controls",
       "_view_module_version": "1.5.0",
       "_view_name": "HTMLView",
       "description": "",
       "description_tooltip": null,
       "layout": "IPY_MODEL_6a36b78a6ecb4bc4b055f0c72ab7fc55",
       "placeholder": "​",
       "style": "IPY_MODEL_1f64a653fa344a3c8b13b42fe38f6183",
       "value": "100%"
      }
     },
     "e55f54438b624f6cafc06b48620d8bd4": {
      "model_module": "@jupyter-widgets/controls",
      "model_module_version": "1.5.0",
      "model_name": "ProgressStyleModel",
      "state": {
       "_model_module": "@jupyter-widgets/controls",
       "_model_module_version": "1.5.0",
       "_model_name": "ProgressStyleModel",
       "_view_count": null,
       "_view_module": "@jupyter-widgets/base",
       "_view_module_version": "1.2.0",
       "_view_name": "StyleView",
       "bar_color": null,
       "description_width": ""
      }
     },
     "e8815c2bb42e40e89ea719c6794737ff": {
      "model_module": "@jupyter-widgets/base",
      "model_module_version": "1.2.0",
      "model_name": "LayoutModel",
      "state": {
       "_model_module": "@jupyter-widgets/base",
       "_model_module_version": "1.2.0",
       "_model_name": "LayoutModel",
       "_view_count": null,
       "_view_module": "@jupyter-widgets/base",
       "_view_module_version": "1.2.0",
       "_view_name": "LayoutView",
       "align_content": null,
       "align_items": null,
       "align_self": null,
       "border": null,
       "bottom": null,
       "display": null,
       "flex": null,
       "flex_flow": null,
       "grid_area": null,
       "grid_auto_columns": null,
       "grid_auto_flow": null,
       "grid_auto_rows": null,
       "grid_column": null,
       "grid_gap": null,
       "grid_row": null,
       "grid_template_areas": null,
       "grid_template_columns": null,
       "grid_template_rows": null,
       "height": null,
       "justify_content": null,
       "justify_items": null,
       "left": null,
       "margin": null,
       "max_height": null,
       "max_width": null,
       "min_height": null,
       "min_width": null,
       "object_fit": null,
       "object_position": null,
       "order": null,
       "overflow": null,
       "overflow_x": null,
       "overflow_y": null,
       "padding": null,
       "right": null,
       "top": null,
       "visibility": null,
       "width": null
      }
     },
     "fb469fa3b9c44d76a810927006a52356": {
      "model_module": "@jupyter-widgets/controls",
      "model_module_version": "1.5.0",
      "model_name": "HBoxModel",
      "state": {
       "_dom_classes": [],
       "_model_module": "@jupyter-widgets/controls",
       "_model_module_version": "1.5.0",
       "_model_name": "HBoxModel",
       "_view_count": null,
       "_view_module": "@jupyter-widgets/controls",
       "_view_module_version": "1.5.0",
       "_view_name": "HBoxView",
       "box_style": "",
       "children": [
        "IPY_MODEL_e25dad500c554f8692384f99b9fe3c34",
        "IPY_MODEL_b47cd46a24544128a94c675da9785cc9",
        "IPY_MODEL_9169155576844ecebef76ee880927c96"
       ],
       "layout": "IPY_MODEL_352d6d9cbc8743ad83b28f01dbe0146d"
      }
     }
    },
    "version_major": 2,
    "version_minor": 0
   }
  }
 },
 "nbformat": 4,
 "nbformat_minor": 5
}
